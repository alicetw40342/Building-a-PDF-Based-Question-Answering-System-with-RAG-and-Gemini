{
  "nbformat": 4,
  "nbformat_minor": 0,
  "metadata": {
    "colab": {
      "provenance": [],
      "authorship_tag": "ABX9TyPjnYTbLx8uyCwMuXGT7efa",
      "include_colab_link": true
    },
    "kernelspec": {
      "name": "python3",
      "display_name": "Python 3"
    },
    "language_info": {
      "name": "python"
    }
  },
  "cells": [
    {
      "cell_type": "markdown",
      "metadata": {
        "id": "view-in-github",
        "colab_type": "text"
      },
      "source": [
        "<a href=\"https://colab.research.google.com/github/alicetw40342/Building-a-PDF-Based-Question-Answering-System-with-RAG-and-Gemini/blob/main/Project3_task3.ipynb\" target=\"_parent\"><img src=\"https://colab.research.google.com/assets/colab-badge.svg\" alt=\"Open In Colab\"/></a>"
      ]
    },
    {
      "cell_type": "code",
      "execution_count": null,
      "metadata": {
        "id": "DYy1aj4FaZVe"
      },
      "outputs": [],
      "source": [
        "def get_relevant_passage(query: str, db, n_results: int = 3) -> List[str]:\n",
        "    \"\"\"\n",
        "    將問題轉為向量，從 Chroma 資料庫中找出最相似的 n 段文字\n",
        "    \"\"\"\n",
        "    utils = EmbeddingUtils()\n",
        "    query_embedding = utils.get_embedding(query)\n",
        "\n",
        "    result = db.query(\n",
        "        query_embeddings=[query_embedding],\n",
        "        n_results=n_results\n",
        "    )\n",
        "\n",
        "    return result[\"documents\"][0]\n"
      ]
    },
    {
      "cell_type": "code",
      "source": [
        "# 測試問題\n",
        "user_query = \"What is the relationship between AI and the brain?\"\n",
        "\n",
        "# 取得最相關段落（可改成 n=5）\n",
        "results = get_relevant_passage(user_query, collection, n_results=2)\n",
        "\n",
        "# 顯示結果\n",
        "print(\"🔍 使用者問題：\", user_query)\n",
        "print(\"\\n📚 最相關段落：\\n\")\n",
        "for i, passage in enumerate(results):\n",
        "    print(f\"🔹 Chunk {i+1}:\\n{passage}\\n{'-'*50}\")\n"
      ],
      "metadata": {
        "id": "siVDQ3ZpaaQm"
      },
      "execution_count": null,
      "outputs": []
    }
  ]
}